{
 "cells": [
  {
   "cell_type": "markdown",
   "metadata": {},
   "source": [
    "# Deep learning with Pytorch\n",
    "This notebook is based on the course \"Deep Learning with Pytorch\" by IBM Developer Skills Network. "
   ]
  },
  {
   "cell_type": "code",
   "execution_count": 38,
   "metadata": {},
   "outputs": [],
   "source": [
    "# Importing the necessary libraries\n",
    "\n",
    "import torch \n",
    "import numpy as np\n",
    "import pandas as pd\n",
    "import matplotlib.pyplot as plt"
   ]
  },
  {
   "cell_type": "markdown",
   "metadata": {},
   "source": [
    "## 1D tensors \n",
    "\n",
    "It is an array of numbers arranged in a single line, also known as a vector.\n",
    "There is a variety of tensor types depending on the data type of the elements(float, int, double, etc)."
   ]
  },
  {
   "cell_type": "code",
   "execution_count": 39,
   "metadata": {},
   "outputs": [
    {
     "name": "stdout",
     "output_type": "stream",
     "text": [
      "the first element in the tensor is:  tensor(7)\n",
      "the type of data stored in the tensor is:  torch.int64\n",
      "the type of the tensor is:  torch.LongTensor\n"
     ]
    }
   ],
   "source": [
    "# Creating a tensor\n",
    "\n",
    "a = torch.tensor([7,2,1,10])  # Creating a tensor from a list of integers\n",
    "\n",
    "# Accesing an element in the tensor \n",
    "print(\"the first element in the tensor is: \", a[0])\n",
    "\n",
    "# Finding the type of data stored in the tensor\n",
    "print(\"the type of data stored in the tensor is: \", a.dtype)\n",
    "\n",
    "# Finding the type of the tensor\n",
    "print(\"the type of the tensor is: \", a.type())\n"
   ]
  },
  {
   "cell_type": "code",
   "execution_count": 40,
   "metadata": {},
   "outputs": [
    {
     "name": "stdout",
     "output_type": "stream",
     "text": [
      "torch.int32\n"
     ]
    },
    {
     "name": "stderr",
     "output_type": "stream",
     "text": [
      "/tmp/ipykernel_43466/1037664574.py:3: DeprecationWarning: an integer is required (got type float).  Implicit conversion to integers using __int__ is deprecated, and may be removed in a future version of Python.\n",
      "  b = torch.tensor([0.0, 1.0, 2.0, 3.0, 4.0], dtype=torch.int32)\n"
     ]
    }
   ],
   "source": [
    "# Explicitly defining the data type of the tensor\n",
    "\n",
    "b = torch.tensor([0.0, 1.0, 2.0, 3.0, 4.0], dtype=torch.int32)\n",
    "\n",
    "print(b.dtype)"
   ]
  },
  {
   "cell_type": "code",
   "execution_count": 41,
   "metadata": {},
   "outputs": [
    {
     "name": "stdout",
     "output_type": "stream",
     "text": [
      "the type of c is:  torch.FloatTensor\n",
      "tensor([0., 7., 2., 8., 4.])\n"
     ]
    }
   ],
   "source": [
    "# Creating a FloatTensor\n",
    "\n",
    "c = torch.FloatTensor([0, 7, 2, 8, 4])\n",
    "\n",
    "print(\"the type of c is: \", c.type())\n",
    "\n",
    "print(c) # Decimals are added to the numbers to indicate that they are floating point numbers"
   ]
  },
  {
   "cell_type": "code",
   "execution_count": 42,
   "metadata": {},
   "outputs": [
    {
     "name": "stdout",
     "output_type": "stream",
     "text": [
      "initial data type:  torch.int64\n",
      "new data type:  torch.float32\n"
     ]
    }
   ],
   "source": [
    "# Casting a tensor to a different data type\n",
    "\n",
    "d = torch.tensor([0, 1, 2, 3, 4])\n",
    "\n",
    "print(\"initial data type: \", d.dtype)\n",
    "\n",
    "d = d.type(torch.FloatTensor)\n",
    "\n",
    "print(\"new data type: \", d.dtype)"
   ]
  },
  {
   "cell_type": "code",
   "execution_count": 43,
   "metadata": {},
   "outputs": [
    {
     "name": "stdout",
     "output_type": "stream",
     "text": [
      "torch.Size([5])\n",
      "1\n"
     ]
    }
   ],
   "source": [
    "# Finding the size of the tensor\n",
    "\n",
    "print(d.size())\n",
    "\n",
    "# Finding the dimension of the tensor\n",
    "\n",
    "print(d.ndimension())"
   ]
  },
  {
   "cell_type": "code",
   "execution_count": 44,
   "metadata": {},
   "outputs": [
    {
     "name": "stdout",
     "output_type": "stream",
     "text": [
      "tensor([[0.],\n",
      "        [1.],\n",
      "        [2.],\n",
      "        [3.],\n",
      "        [4.]])\n",
      "2\n"
     ]
    }
   ],
   "source": [
    "# Converting a 1D tensor to a 2D tensor\n",
    "\n",
    "d = d.view(5,1)\n",
    "\n",
    "print(d)\n",
    "\n",
    "print(d.ndimension())\n"
   ]
  },
  {
   "cell_type": "code",
   "execution_count": 45,
   "metadata": {},
   "outputs": [
    {
     "name": "stdout",
     "output_type": "stream",
     "text": [
      "tensor([[0.],\n",
      "        [7.],\n",
      "        [2.],\n",
      "        [8.],\n",
      "        [4.]])\n",
      "2\n"
     ]
    }
   ],
   "source": [
    "# If the tensor's size is unknown, we can use -1 to infer the size\n",
    "\n",
    "c = c.view(-1, 1)\n",
    "\n",
    "print(c)\n",
    "\n",
    "print (c.ndimension())\n"
   ]
  },
  {
   "cell_type": "code",
   "execution_count": 46,
   "metadata": {},
   "outputs": [
    {
     "name": "stdout",
     "output_type": "stream",
     "text": [
      "tensor([0., 1., 2., 3., 4.], dtype=torch.float64)\n",
      "[0. 1. 2. 3. 4.]\n"
     ]
    }
   ],
   "source": [
    "# Converting a numpy array to a tensor \n",
    "\n",
    "import numpy as np\n",
    "\n",
    "numpy_array = np.array([0.0, 1.0, 2.0, 3.0, 4.0])\n",
    "\n",
    "torch_tensor = torch.from_numpy(numpy_array)\n",
    "\n",
    "print(torch_tensor)\n",
    "\n",
    "\n",
    "# Converting a tensor to a numpy array\n",
    "\n",
    "back_to_numpy = torch_tensor.numpy()\n",
    "\n",
    "print(back_to_numpy)"
   ]
  },
  {
   "cell_type": "markdown",
   "metadata": {},
   "source": [
    "![My Image](dependency.png)\n",
    "\n",
    "back_to_numpy is linked to torch_tensor which is linked to numpy_array. So any change in numpy_array will reflect in torch_tensor and back_to_numpy. \n"
   ]
  },
  {
   "cell_type": "code",
   "execution_count": null,
   "metadata": {},
   "outputs": [],
   "source": []
  },
  {
   "cell_type": "code",
   "execution_count": 47,
   "metadata": {},
   "outputs": [
    {
     "name": "stdout",
     "output_type": "stream",
     "text": [
      "tensor([ 0.1000,  2.0000,  0.3000, 10.1000], dtype=torch.float64)\n"
     ]
    }
   ],
   "source": [
    "# Converting a pandas series to a tensor\n",
    "\n",
    "import pandas as pd\n",
    "\n",
    "pandas_series = pd.Series([0.1, 2, 0.3, 10.1])\n",
    "\n",
    "pandas_to_torch = torch.from_numpy(pandas_series.values)\n",
    "\n",
    "print(pandas_to_torch)"
   ]
  },
  {
   "cell_type": "code",
   "execution_count": 48,
   "metadata": {},
   "outputs": [
    {
     "name": "stdout",
     "output_type": "stream",
     "text": [
      "[0, 1, 2, 3]\n"
     ]
    }
   ],
   "source": [
    "# Convert a tensor to a python list\n",
    "\n",
    "this_tensor = torch.tensor([0, 1, 2, 3])\n",
    "\n",
    "torch_to_list = this_tensor.tolist()\n",
    "\n",
    "print(torch_to_list)"
   ]
  },
  {
   "cell_type": "code",
   "execution_count": 49,
   "metadata": {},
   "outputs": [
    {
     "name": "stdout",
     "output_type": "stream",
     "text": [
      "original tensor:  tensor([0, 1, 2, 3])\n",
      "modified tensor:  tensor([100,   1,   2,   3])\n"
     ]
    }
   ],
   "source": [
    "# Changing the value of an element in a tensor\n",
    "\n",
    "print(\"original tensor: \", this_tensor)\n",
    "\n",
    "this_tensor[0] = 100\n",
    "\n",
    "print(\"modified tensor: \", this_tensor)"
   ]
  },
  {
   "cell_type": "code",
   "execution_count": 50,
   "metadata": {},
   "outputs": [
    {
     "name": "stdout",
     "output_type": "stream",
     "text": [
      "tensor([1, 2, 3])\n"
     ]
    }
   ],
   "source": [
    "# Slicing a tensor (works the same way as slicing a list)\n",
    "\n",
    "print(this_tensor[1:4])"
   ]
  },
  {
   "cell_type": "code",
   "execution_count": 51,
   "metadata": {},
   "outputs": [
    {
     "name": "stdout",
     "output_type": "stream",
     "text": [
      "tensor([100,  10,  20,  30])\n"
     ]
    }
   ],
   "source": [
    "# Assigning a new value to a slice of a tensor\n",
    "\n",
    "this_tensor[1:4] = torch.tensor([10, 20, 30])\n",
    "\n",
    "print(this_tensor)"
   ]
  },
  {
   "cell_type": "code",
   "execution_count": 52,
   "metadata": {},
   "outputs": [
    {
     "name": "stdout",
     "output_type": "stream",
     "text": [
      "u + v =  tensor([1, 1])\n",
      "u - v =  tensor([ 1, -1])\n",
      "2 * u =  tensor([2, 0])\n",
      "u * v =  tensor([0, 0])\n",
      "u + 1 =  tensor([2, 1])\n"
     ]
    }
   ],
   "source": [
    "# Basic operations on tensors\n",
    "\n",
    "u = torch.tensor([1, 0])\n",
    "\n",
    "v = torch.tensor([0, 1])\n",
    "\n",
    "# Vector addition\n",
    "\n",
    "w = u + v\n",
    "\n",
    "print(\"u + v = \", w)    \n",
    "\n",
    "# Vector subtraction\n",
    "\n",
    "w = u - v\n",
    "\n",
    "print(\"u - v = \", w)\n",
    "\n",
    "# Scalar multiplication\n",
    "\n",
    "w = 2 * u\n",
    "\n",
    "print(\"2 * u = \", w)\n",
    "\n",
    "# Product of two tensors\n",
    "\n",
    "w = u * v\n",
    "\n",
    "print(\"u * v = \", w)\n",
    "\n",
    "# Adding a scalar to a tensor\n",
    "\n",
    "w = u + 1\n",
    "\n",
    "print(\"u + 1 = \", w)\n"
   ]
  },
  {
   "cell_type": "code",
   "execution_count": 60,
   "metadata": {},
   "outputs": [
    {
     "name": "stdout",
     "output_type": "stream",
     "text": [
      "u . v =  tensor(0)\n"
     ]
    },
    {
     "data": {
      "image/png": "[encoded data removed]",
      "text/plain": [
       "<Figure size 640x480 with 1 Axes>"
      ]
     },
     "metadata": {},
     "output_type": "display_data"
    }
   ],
   "source": [
    "# Dot product of two tensors\n",
    "\n",
    "w = torch.dot(u, v)\n",
    "\n",
    "print(\"u . v = \", w)\n",
    "\n",
    "# Defining a fuction that plots the two vectors, the parameters need to be in the same length\n",
    "# @param: Vectors = [{\"vector\": vector variable, \"name\": name of vector, \"color\": color of the vector on diagram}]\n",
    "    \n",
    "def plotVec(vectors):\n",
    "    ax = plt.axes()\n",
    "    \n",
    "    # For loop to draw the vectors\n",
    "    for vec in vectors:\n",
    "        ax.arrow(0, 0, *vec[\"vector\"], head_width = 0.05,color = vec[\"color\"], head_length = 0.1)\n",
    "        plt.text(*(vec[\"vector\"] + 0.1), vec[\"name\"])\n",
    "    \n",
    "    plt.ylim(-2,2)\n",
    "    plt.xlim(-2,2)\n",
    "\n",
    "# Plotting the vectors\n",
    "\n",
    "plotVec([{\"vector\": u.numpy(), \"name\": \"u\", \"color\": \"r\"}, {\"vector\": v.numpy(), \"name\": \"v\", \"color\": \"b\"}])\n",
    "\n",
    "\n",
    "\n"
   ]
  },
  {
   "cell_type": "code",
   "execution_count": 54,
   "metadata": {},
   "outputs": [
    {
     "name": "stdout",
     "output_type": "stream",
     "text": [
      "the mean of a is:  tensor(0.)\n",
      "the maximum value in b is:  tensor(5)\n",
      "the sine of x is:  tensor([ 0.0000e+00,  1.0000e+00, -8.7423e-08])\n",
      "the tensor x with evenly spaced numbers is:  tensor([-2., -1.,  0.,  1.,  2.])\n"
     ]
    },
    {
     "data": {
      "image/png": "[encoded data removed]",
      "text/plain": [
       "<Figure size 640x480 with 1 Axes>"
      ]
     },
     "metadata": {},
     "output_type": "display_data"
    }
   ],
   "source": [
    "# Universal functions\n",
    "\n",
    "a = torch.tensor([1.0, -1.0, 1.0, -1.0])\n",
    "\n",
    "# Calculating the mean of a tensor\n",
    "\n",
    "mean_a = a.mean()\n",
    "\n",
    "print(\"the mean of a is: \", mean_a)\n",
    "\n",
    "b = torch.tensor([1, 2, 3, 4, 5])\n",
    "\n",
    "# Calculating the maximum value in a tensor\n",
    "\n",
    "max_b = b.max()\n",
    "\n",
    "print(\"the maximum value in b is: \", max_b)\n",
    "\n",
    "# Calculating the sine of a tensor\n",
    "\n",
    "x = torch.tensor([0, np.pi/2, np.pi])\n",
    "\n",
    "sin_x = torch.sin(x)\n",
    "\n",
    "print(\"the sine of x is: \", sin_x) # the result of sin(pi) is not exactly zero due to floating point precision\n",
    "\n",
    "# Useful function for plotting mathematical functions\n",
    "\n",
    "x = torch.linspace(-2, 2, steps=5) # creates a tensor with 5 evenly spaced numbers between -2 and 2 in 5 steps\n",
    "\n",
    "print(\"the tensor x with evenly spaced numbers is: \", x) \n",
    "\n",
    "# Generating evenly spaced numbers between two numbers\n",
    "\n",
    "x = torch.linspace(0, 2*np.pi, 100)\n",
    "y = torch.sin(x)\n",
    "\n",
    "plt.plot(x.numpy(), y.numpy()) # tensors need to be converted to numpy arrays before plotting\n",
    "plt.show()\n",
    "\n",
    "\n"
   ]
  },
  {
   "cell_type": "markdown",
   "metadata": {},
   "source": [
    "## 2D tensors\n",
    "\n",
    "It is an array of arrays, also known as a matrix. It contains data of the same type in rows and columns. Each row of the tensor corresponds to a different sample, and each column corresponds to a different feature/attribute of the sample.\n",
    "\n",
    "For example, a 2D tensor can be used to represent grayscale images, where each element in the 2D tensor represents a pixel intensity value ranging from 0 (black) to 255 (white).\n",
    "\n",
    "[gray_scale_image](grayscale.png)\n",
    "\n"
   ]
  },
  {
   "cell_type": "markdown",
   "metadata": {},
   "source": []
  }
 ],
 "metadata": {
  "kernelspec": {
   "display_name": "deep_learning_env",
   "language": "python",
   "name": "python3"
  },
  "language_info": {
   "codemirror_mode": {
    "name": "ipython",
    "version": 3
   },
   "file_extension": ".py",
   "mimetype": "text/x-python",
   "name": "python",
   "nbconvert_exporter": "python",
   "pygments_lexer": "ipython3",
   "version": "3.9.19"
  }
 },
 "nbformat": 4,
 "nbformat_minor": 2
}
