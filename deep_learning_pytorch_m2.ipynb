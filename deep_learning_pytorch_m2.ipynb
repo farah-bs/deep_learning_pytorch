{
 "cells": [
  {
   "cell_type": "markdown",
   "metadata": {},
   "source": [
    "# Deep learning with Pytorch - Module 2\n",
    "This notebook is based on the course \"Deep Learning with Pytorch\" by IBM Developer Skills Network. "
   ]
  },
  {
   "cell_type": "markdown",
   "metadata": {},
   "source": [
    "## Linear regression in 1D \n",
    "\n",
    "Linear regression is a linear approach to modeling the relationship between a scalar response and one or more explanatory variables. In most cases,, it is between the predictor x which is the input, an independent variable and the target y which is the dependent variable.\n",
    "\n",
    "The goal is to find the best fit line that describes the relationship between x and y. One that fits the equation y = mx + b, where m is the slope (weight) and b is the y-intercept (bias), called linear mapping. This is also called a model.\n",
    "\n",
    "Once we have the model, we can use it to predict the target value for new input values. The prediction step is called the forward pass. "
   ]
  },
  {
   "cell_type": "code",
   "execution_count": 24,
   "metadata": {},
   "outputs": [
    {
     "name": "stdout",
     "output_type": "stream",
     "text": [
      "tensor([[1.]], grad_fn=<AddBackward0>)\n"
     ]
    }
   ],
   "source": [
    "# example of linear regression prediction\n",
    "\n",
    "import torch\n",
    "\n",
    "w = torch.tensor(2.0, requires_grad=True)\n",
    "b = torch.tensor(-1.0, requires_grad=True)\n",
    "\n",
    "def forward(x):\n",
    "    y = w*x + b\n",
    "    return y\n",
    "\n",
    "x = torch.tensor([[1.0]])\n",
    "\n",
    "yhat = forward(x)\n",
    "\n",
    "print(yhat) # y hat is the prediction of the model for the chosen input x"
   ]
  },
  {
   "cell_type": "code",
   "execution_count": 25,
   "metadata": {},
   "outputs": [
    {
     "name": "stdout",
     "output_type": "stream",
     "text": [
      "Parameters w and b:  [Parameter containing:\n",
      "tensor([[0.5153]], requires_grad=True), Parameter containing:\n",
      "tensor([-0.4414], requires_grad=True)]\n",
      "the prediction of the model for the input x is:  tensor([[-0.4414]], grad_fn=<AddmmBackward0>)\n"
     ]
    }
   ],
   "source": [
    "# using Linear class from torch.nn module\n",
    "\n",
    "from torch.nn import Linear\n",
    "\n",
    "torch.manual_seed(1) # seed for random number generation for reproducibility\n",
    "\n",
    "model = Linear(in_features=1, out_features=1, bias = True ) # in_features is the number of input features, out_features is the number of output features\n",
    "\n",
    "print('Parameters w and b: ', list(model.parameters())) # parameters of the model are the weights and bias\n",
    "\n",
    "x = torch.tensor([[0.0]]) # input tensor\n",
    "\n",
    "yhat = model(x) # model is a function that takes input x and returns the prediction yhat\n",
    "\n",
    "print(\"the prediction of the model for the input x is: \", yhat)"
   ]
  },
  {
   "cell_type": "code",
   "execution_count": 26,
   "metadata": {},
   "outputs": [
    {
     "name": "stdout",
     "output_type": "stream",
     "text": [
      "Python dictionary:  OrderedDict([('weight', tensor([[0.5153]])), ('bias', tensor([-0.4414]))])\n",
      "keys:  odict_keys(['weight', 'bias'])\n",
      "values: odict_values([tensor([[0.5153]]), tensor([-0.4414])]) \n",
      " \n",
      "weight: Parameter containing:\n",
      "tensor([[0.5153]], requires_grad=True)\n",
      "bias: Parameter containing:\n",
      "tensor([-0.4414], requires_grad=True)\n"
     ]
    }
   ],
   "source": [
    "# state_dict() returns a Python dictionary object corresponding to the layers of each parameter tensor\n",
    "print(\"Python dictionary: \",model.state_dict())\n",
    "print(\"keys: \",model.state_dict().keys())\n",
    "print(\"values: {} \\n \".format(model.state_dict().values()))\n",
    "\n",
    "\n",
    "# the keys are the parameter names, and the values are the parameter tensors\n",
    "print(\"weight:\",model.weight)\n",
    "print(\"bias:\",model.bias)"
   ]
  },
  {
   "cell_type": "code",
   "execution_count": 27,
   "metadata": {},
   "outputs": [
    {
     "name": "stdout",
     "output_type": "stream",
     "text": [
      "the parameters:  [Parameter containing:\n",
      "tensor([[-0.1939]], requires_grad=True), Parameter containing:\n",
      "tensor([0.4694], requires_grad=True)]\n",
      "Linear model:  Linear(in_features=1, out_features=1, bias=True)\n",
      "the prediction of the model for the input x is:  tensor([[0.2755]], grad_fn=<AddmmBackward0>)\n",
      "the prediction of the model for the input z is:  tensor([[0.2755]], grad_fn=<AddmmBackward0>)\n"
     ]
    },
    {
     "data": {
      "text/plain": [
       "OrderedDict([('linear.weight', tensor([[-0.1939]])),\n",
       "             ('linear.bias', tensor([0.4694]))])"
      ]
     },
     "execution_count": 27,
     "metadata": {},
     "output_type": "execute_result"
    }
   ],
   "source": [
    "# building custom module for linear regression \n",
    "\n",
    "# the module inherits from the nn.Module class\n",
    "\n",
    "import torch.nn as nn\n",
    "\n",
    "class LR(nn.Module):\n",
    "    def __init__(self, input_size, output_size): # super class constructor\n",
    "        super(LR, self).__init__()\n",
    "        self.linear = nn.Linear(input_size, output_size) \n",
    "        \n",
    "    def forward(self, x): # forward method, behaves like the call method in python, we only use () to apply the model to the input \n",
    "        out = self.linear(x)\n",
    "        return out\n",
    "    \n",
    "model = LR(1, 1) # model is an instance of the LR class\n",
    "\n",
    "print(\"the parameters: \", list(model.parameters())) # parameters of the model are the weights and bias\n",
    "\n",
    "print(\"Linear model: \", model.linear)\n",
    "\n",
    "x = torch.tensor([[1.0]]) # input tensor\n",
    "\n",
    "yhat = model(x) # model is a function that takes input x and returns the prediction yhat\n",
    "\n",
    "print(\"the prediction of the model for the input x is: \", yhat)\n",
    "\n",
    "z = torch.tensor([[1.0], [2.0]]) # input tensor\n",
    "\n",
    "yhat = model(x) # model is a function that takes input x and returns the prediction yhat\n",
    "\n",
    "print(\"the prediction of the model for the input z is: \", yhat)\n",
    "\n",
    "model.state_dict() # state_dict method returns the weights and bias of the model\n",
    "\n"
   ]
  }
 ],
 "metadata": {
  "kernelspec": {
   "display_name": "deep_learning_env",
   "language": "python",
   "name": "python3"
  },
  "language_info": {
   "codemirror_mode": {
    "name": "ipython",
    "version": 3
   },
   "file_extension": ".py",
   "mimetype": "text/x-python",
   "name": "python",
   "nbconvert_exporter": "python",
   "pygments_lexer": "ipython3",
   "version": "3.9.19"
  }
 },
 "nbformat": 4,
 "nbformat_minor": 2
}
